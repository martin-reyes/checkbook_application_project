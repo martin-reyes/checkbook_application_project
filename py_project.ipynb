{
 "cells": [
  {
   "cell_type": "code",
   "execution_count": 1,
   "id": "e94afa01",
   "metadata": {},
   "outputs": [],
   "source": [
    "import os\n",
    "\n",
    "def main():\n",
    "\n",
    "    # initialize balance\n",
    "    balance = initialize_balance()\n",
    "\n",
    "    # greeting\n",
    "    print(\"~~~ Welcome to your terminal checkbook! ~~~\\n\")\n",
    "\n",
    "    # run options until user exits\n",
    "    while True:\n",
    "        print(\n",
    "            \"\"\"What would you like to do?\\n\n",
    "                1) view current balance\\n\n",
    "                2) record a debit (withdraw)\\n\n",
    "                3) record a credit (deposit)\\n\n",
    "                4) exit\\n\"\"\")\n",
    "        \n",
    "        # get and validate input\n",
    "        while True:\n",
    "\n",
    "            usr_input = input('Your choice? ')\n",
    "\n",
    "            if 1 <= int(usr_input) <= 4:\n",
    "                usr_input = int(usr_input)\n",
    "                break\n",
    "            else:\n",
    "                print(f'Invalid choice: {usr_input}\\n')\n",
    "        \n",
    "        # run option\n",
    "        if usr_input == 1:\n",
    "            view_balance(balance)\n",
    "        elif usr_input == 2:\n",
    "            balance = withdraw(balance)     \n",
    "        elif usr_input == 3:\n",
    "            balance = deposit(balance)\n",
    "        elif usr_input == 4:\n",
    "            exit_farewell()\n",
    "            break\n",
    "\n",
    "    # save_balance into 'balance.txt'\n",
    "    save_balance(balance)\n",
    "\n",
    "    # exit app\n",
    "    exit()\n",
    "\n",
    "\n",
    "# check if string is a float\n",
    "def is_float(string):\n",
    "    try:\n",
    "        float(string)\n",
    "        return True\n",
    "    except ValueError:\n",
    "        return False\n",
    "\n",
    "\n",
    "# if balance saved (in .txt), initialize balance to this, \n",
    "# else it equals 0. Function returns balance\n",
    "def initialize_balance():\n",
    "    if os.path.exists('balance.txt'):\n",
    "        with open('balance.txt', 'r') as f:\n",
    "            text = f.read()\n",
    "            if is_float(text):\n",
    "                return float(text)\n",
    "            else:\n",
    "                return 0\n",
    "    else:\n",
    "        return 0\n",
    "\n",
    "\n",
    "# new balance saved and overwrites previous\n",
    "def save_balance(balance):\n",
    "    with open('balance.txt', 'w') as f:\n",
    "        f.write('{:.2f}'.format(round(balance, 2)))\n",
    "\n",
    "# option 1 function: view balance\n",
    "def view_balance(balance):\n",
    "    bal_disp = '\\nYour current balance is ${:.2f}.\\n'.format(round(abs(balance), 2))\n",
    "    if balance < 0:\n",
    "        bal_disp = bal_disp[:25] + '-' + bal_disp[25:]\n",
    "    print(bal_disp)\n",
    "\n",
    "# option 2 function: make deposit\n",
    "def deposit(balance):\n",
    "    credit = float(input('\\nHow much is the credit? '))\n",
    "    balance += credit\n",
    "    return balance\n",
    "\n",
    "# option 3 function: make withdrawal\n",
    "def withdraw(balance):\n",
    "    debit = float(input('\\nHow much is the debit? '))\n",
    "    balance -= debit\n",
    "    return balance\n",
    "\n",
    "# option 4 function: exit app\n",
    "def exit_farewell():\n",
    "    # farewell\n",
    "    print(\"\\nThanks, have a great day!\\n\")\n",
    "\n",
    "\n",
    "# The application should persist between times that it is run.\n",
    "\n",
    "#  Consider creating a file where each line in the file\n",
    "#  represents a single transaction\n",
    "\n",
    "# main()"
   ]
  },
  {
   "cell_type": "code",
   "execution_count": null,
   "id": "4530a976",
   "metadata": {},
   "outputs": [
    {
     "name": "stdout",
     "output_type": "stream",
     "text": [
      "~~~ Welcome to your terminal checkbook! ~~~\n",
      "\n",
      "What would you like to do?\n",
      "\n",
      "                1) view current balance\n",
      "\n",
      "                2) record a debit (withdraw)\n",
      "\n",
      "                3) record a credit (deposit)\n",
      "\n",
      "                4) exit\n",
      "\n",
      "Your choice? 1\n",
      "\n",
      "Your current balance is $100.00.\n",
      "\n",
      "What would you like to do?\n",
      "\n",
      "                1) view current balance\n",
      "\n",
      "                2) record a debit (withdraw)\n",
      "\n",
      "                3) record a credit (deposit)\n",
      "\n",
      "                4) exit\n",
      "\n"
     ]
    }
   ],
   "source": [
    "main()"
   ]
  },
  {
   "cell_type": "code",
   "execution_count": 81,
   "id": "2cfa8b35",
   "metadata": {
    "scrolled": true
   },
   "outputs": [
    {
     "data": {
      "text/plain": [
       "True"
      ]
     },
     "execution_count": 81,
     "metadata": {},
     "output_type": "execute_result"
    }
   ],
   "source": [
    "is_float('100.00')"
   ]
  },
  {
   "cell_type": "code",
   "execution_count": 40,
   "id": "4e3ded8d",
   "metadata": {
    "scrolled": true
   },
   "outputs": [
    {
     "data": {
      "text/plain": [
       "False"
      ]
     },
     "execution_count": 40,
     "metadata": {},
     "output_type": "execute_result"
    }
   ],
   "source": [
    "is_float('')"
   ]
  },
  {
   "cell_type": "code",
   "execution_count": 102,
   "id": "b26a5521",
   "metadata": {},
   "outputs": [
    {
     "data": {
      "text/plain": [
       "100.0"
      ]
     },
     "execution_count": 102,
     "metadata": {},
     "output_type": "execute_result"
    }
   ],
   "source": [
    "b = initialize_balance()\n",
    "b"
   ]
  },
  {
   "cell_type": "code",
   "execution_count": 88,
   "id": "3cc55534",
   "metadata": {},
   "outputs": [
    {
     "data": {
      "text/plain": [
       "str"
      ]
     },
     "execution_count": 88,
     "metadata": {},
     "output_type": "execute_result"
    }
   ],
   "source": [
    "ob = ''\n",
    "type(ob)"
   ]
  },
  {
   "cell_type": "code",
   "execution_count": 35,
   "id": "604773dc",
   "metadata": {},
   "outputs": [
    {
     "name": "stdout",
     "output_type": "stream",
     "text": [
      "100.00\n"
     ]
    }
   ],
   "source": [
    "save_balance(100)"
   ]
  },
  {
   "cell_type": "code",
   "execution_count": 37,
   "id": "66e2c406",
   "metadata": {},
   "outputs": [
    {
     "data": {
      "text/plain": [
       "str"
      ]
     },
     "execution_count": 37,
     "metadata": {},
     "output_type": "execute_result"
    }
   ],
   "source": [
    "type('{:.2f}'.format(round(100, 2)))"
   ]
  },
  {
   "cell_type": "code",
   "execution_count": 12,
   "id": "e4e8c14b",
   "metadata": {},
   "outputs": [
    {
     "name": "stdout",
     "output_type": "stream",
     "text": [
      "\n",
      "Your current balance is -$150.00.\n",
      "\n"
     ]
    }
   ],
   "source": [
    "view_balance(-150)"
   ]
  },
  {
   "cell_type": "code",
   "execution_count": 28,
   "id": "729e9880",
   "metadata": {},
   "outputs": [
    {
     "name": "stdout",
     "output_type": "stream",
     "text": [
      "\n",
      "How much is the credit? r\n"
     ]
    },
    {
     "ename": "ValueError",
     "evalue": "could not convert string to float: 'r'",
     "output_type": "error",
     "traceback": [
      "\u001b[0;31m---------------------------------------------------------------------------\u001b[0m",
      "\u001b[0;31mValueError\u001b[0m                                Traceback (most recent call last)",
      "Cell \u001b[0;32mIn[28], line 1\u001b[0m\n\u001b[0;32m----> 1\u001b[0m \u001b[43mdeposit\u001b[49m\u001b[43m(\u001b[49m\u001b[38;5;241;43m400\u001b[39;49m\u001b[43m)\u001b[49m\n",
      "Cell \u001b[0;32mIn[18], line 86\u001b[0m, in \u001b[0;36mdeposit\u001b[0;34m(balance)\u001b[0m\n\u001b[1;32m     85\u001b[0m \u001b[38;5;28;01mdef\u001b[39;00m \u001b[38;5;21mdeposit\u001b[39m(balance):\n\u001b[0;32m---> 86\u001b[0m     credit \u001b[38;5;241m=\u001b[39m \u001b[38;5;28;43mfloat\u001b[39;49m\u001b[43m(\u001b[49m\u001b[38;5;28;43minput\u001b[39;49m\u001b[43m(\u001b[49m\u001b[38;5;124;43m'\u001b[39;49m\u001b[38;5;130;43;01m\\n\u001b[39;49;00m\u001b[38;5;124;43mHow much is the credit? \u001b[39;49m\u001b[38;5;124;43m'\u001b[39;49m\u001b[43m)\u001b[49m\u001b[43m)\u001b[49m\n\u001b[1;32m     87\u001b[0m     balance \u001b[38;5;241m+\u001b[39m\u001b[38;5;241m=\u001b[39m credit\n\u001b[1;32m     88\u001b[0m     \u001b[38;5;28;01mreturn\u001b[39;00m balance\n",
      "\u001b[0;31mValueError\u001b[0m: could not convert string to float: 'r'"
     ]
    }
   ],
   "source": [
    "deposit(400)"
   ]
  },
  {
   "cell_type": "code",
   "execution_count": 9,
   "id": "28a7d2bf",
   "metadata": {},
   "outputs": [
    {
     "name": "stdout",
     "output_type": "stream",
     "text": [
      "\n",
      "How much is the debit? 10\n"
     ]
    },
    {
     "data": {
      "text/plain": [
       "290.0"
      ]
     },
     "execution_count": 9,
     "metadata": {},
     "output_type": "execute_result"
    }
   ],
   "source": [
    "withdraw(300)"
   ]
  },
  {
   "cell_type": "code",
   "execution_count": 3,
   "id": "36d9c887",
   "metadata": {},
   "outputs": [
    {
     "name": "stdout",
     "output_type": "stream",
     "text": [
      "\n",
      "Thanks, have a great day!\n",
      "\n"
     ]
    }
   ],
   "source": [
    "exit_farewell()"
   ]
  },
  {
   "cell_type": "code",
   "execution_count": null,
   "id": "65071af0",
   "metadata": {},
   "outputs": [],
   "source": []
  }
 ],
 "metadata": {
  "kernelspec": {
   "display_name": "Python 3 (ipykernel)",
   "language": "python",
   "name": "python3"
  },
  "language_info": {
   "codemirror_mode": {
    "name": "ipython",
    "version": 3
   },
   "file_extension": ".py",
   "mimetype": "text/x-python",
   "name": "python",
   "nbconvert_exporter": "python",
   "pygments_lexer": "ipython3",
   "version": "3.10.9"
  },
  "varInspector": {
   "cols": {
    "lenName": 16,
    "lenType": 16,
    "lenVar": 40
   },
   "kernels_config": {
    "python": {
     "delete_cmd_postfix": "",
     "delete_cmd_prefix": "del ",
     "library": "var_list.py",
     "varRefreshCmd": "print(var_dic_list())"
    },
    "r": {
     "delete_cmd_postfix": ") ",
     "delete_cmd_prefix": "rm(",
     "library": "var_list.r",
     "varRefreshCmd": "cat(var_dic_list()) "
    }
   },
   "types_to_exclude": [
    "module",
    "function",
    "builtin_function_or_method",
    "instance",
    "_Feature"
   ],
   "window_display": false
  }
 },
 "nbformat": 4,
 "nbformat_minor": 5
}
