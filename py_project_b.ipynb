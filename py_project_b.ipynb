{
 "cells": [
  {
   "cell_type": "markdown",
   "id": "1a93070e",
   "metadata": {},
   "source": [
    "In this version I want to use pandas to help the user read and manage their transactions. I also want to use pandas to read, store, and save the transactions"
   ]
  },
  {
   "cell_type": "code",
   "execution_count": 152,
   "id": "e94afa01",
   "metadata": {},
   "outputs": [],
   "source": [
    "import os\n",
    "import pandas as pd\n",
    "import numpy as np\n",
    "\n",
    "def main():\n",
    "\n",
    "    # initialize balance\n",
    "    transactions = initialize_transactions()\n",
    "\n",
    "    # greeting\n",
    "    print(\"~~~ Welcome to your terminal checkbook! ~~~\\n\")\n",
    "\n",
    "    # run options until user exits\n",
    "    while True:\n",
    "        print(\n",
    "            \"\"\"What would you like to do?\\n\n",
    "                1) view current balance\\n\n",
    "                2) record a debit (withdraw)\\n\n",
    "                3) record a credit (deposit)\\n\n",
    "                4) exit\\n\"\"\")\n",
    "        \n",
    "        # get and validate input\n",
    "        while True:\n",
    "\n",
    "            usr_input = input('Your choice? ')\n",
    "\n",
    "            if 1 <= int(usr_input) <= 4:\n",
    "                usr_input = int(usr_input)\n",
    "                break\n",
    "            else:\n",
    "                print(f'Invalid choice: {usr_input}\\n')\n",
    "        \n",
    "        # run option\n",
    "        if usr_input == 1:\n",
    "            view_balance(balance)\n",
    "        elif usr_input == 2:\n",
    "            balance = withdraw(balance)     \n",
    "        elif usr_input == 3:\n",
    "            balance = deposit(balance)\n",
    "        elif usr_input == 4:\n",
    "            exit_farewell()\n",
    "            break\n",
    "\n",
    "    # save_balance into 'balance.txt'\n",
    "    save_transactions(balance)\n",
    "\n",
    "    # exit app\n",
    "    exit()\n",
    "\n",
    "\n",
    "# check if string is a float\n",
    "def is_float(string):\n",
    "    try:\n",
    "        float(string)\n",
    "        return True\n",
    "    except ValueError:\n",
    "        return False\n",
    "\n",
    "\n",
    "# if balance saved (in .txt), initialize balance to this, \n",
    "# else it equals 0. Function returns balance\n",
    "def initialize_transactions():\n",
    "    if os.path.exists('transactions.csv'):\n",
    "        df = pd.read_csv('transactions.csv')\n",
    "        return df\n",
    "    else:\n",
    "        # inital data, balance = 0\n",
    "        cols = ['transaction','amount','balance']\n",
    "        data = pd.Series( np.array([np.nan, np.nan, 0.0]), index=cols) \n",
    "        df = pd.DataFrame(columns=cols)\n",
    "        # Add the row to the DataFrame\n",
    "        df.loc[0] = data\n",
    "        return df\n",
    "\n",
    "\n",
    "# new balance saved and overwrites previous\n",
    "def save_transactions(df):\n",
    "        df.to_csv('transactions.csv', index=False)\n",
    "\n",
    "# option 1 function: view balance\n",
    "def view_balance(bal = df['balance'], current=True):\n",
    "    if current:\n",
    "        bal = df['balance'][len(df)-1]\n",
    "        bal_disp = '\\nYour current balance is ${:.2f}.\\n'.format(\\\n",
    "                        round(abs(df['balance'][len(df)-1]), 2))\n",
    "    if bal < 0:\n",
    "        bal_disp = bal_disp[:25] + '-' + bal_disp[25:]\n",
    "    print(bal_disp)\n",
    "\n",
    "# option 2 function: make deposit\n",
    "def deposit(balance):\n",
    "    credit = float(input('\\nHow much is the credit? '))\n",
    "    balance += credit\n",
    "    return balance\n",
    "\n",
    "# option 3 function: make withdrawal\n",
    "def withdraw(balance):\n",
    "    debit = float(input('\\nHow much is the debit? '))\n",
    "    balance -= debit\n",
    "    return balance\n",
    "\n",
    "# option 4 function: exit app\n",
    "def exit_farewell():\n",
    "    # farewell\n",
    "    print(\"\\nThanks, have a great day!\\n\")\n",
    "\n",
    "\n",
    "# The application should persist between times that it is run.\n",
    "\n",
    "#  Consider creating a file where each line in the file\n",
    "#  represents a single transaction\n",
    "\n",
    "# main()"
   ]
  },
  {
   "cell_type": "code",
   "execution_count": 153,
   "id": "4530a976",
   "metadata": {},
   "outputs": [],
   "source": [
    "# main()"
   ]
  },
  {
   "cell_type": "code",
   "execution_count": 154,
   "id": "b26a5521",
   "metadata": {},
   "outputs": [
    {
     "data": {
      "text/html": [
       "<div>\n",
       "<style scoped>\n",
       "    .dataframe tbody tr th:only-of-type {\n",
       "        vertical-align: middle;\n",
       "    }\n",
       "\n",
       "    .dataframe tbody tr th {\n",
       "        vertical-align: top;\n",
       "    }\n",
       "\n",
       "    .dataframe thead th {\n",
       "        text-align: right;\n",
       "    }\n",
       "</style>\n",
       "<table border=\"1\" class=\"dataframe\">\n",
       "  <thead>\n",
       "    <tr style=\"text-align: right;\">\n",
       "      <th></th>\n",
       "      <th>transaction</th>\n",
       "      <th>amount</th>\n",
       "      <th>balance</th>\n",
       "    </tr>\n",
       "  </thead>\n",
       "  <tbody>\n",
       "    <tr>\n",
       "      <th>0</th>\n",
       "      <td>NaN</td>\n",
       "      <td>NaN</td>\n",
       "      <td>-50.0</td>\n",
       "    </tr>\n",
       "  </tbody>\n",
       "</table>\n",
       "</div>"
      ],
      "text/plain": [
       "   transaction  amount  balance\n",
       "0          NaN     NaN    -50.0"
      ]
     },
     "execution_count": 154,
     "metadata": {},
     "output_type": "execute_result"
    }
   ],
   "source": [
    "df = initialize_transactions()\n",
    "df"
   ]
  },
  {
   "cell_type": "code",
   "execution_count": 155,
   "id": "2827bb1e",
   "metadata": {},
   "outputs": [
    {
     "data": {
      "text/plain": [
       "0   -50.0\n",
       "Name: balance, dtype: float64"
      ]
     },
     "execution_count": 155,
     "metadata": {},
     "output_type": "execute_result"
    }
   ],
   "source": [
    "df['balance']"
   ]
  },
  {
   "cell_type": "code",
   "execution_count": 156,
   "id": "17622c26",
   "metadata": {},
   "outputs": [
    {
     "data": {
      "text/plain": [
       "-50.0"
      ]
     },
     "execution_count": 156,
     "metadata": {},
     "output_type": "execute_result"
    }
   ],
   "source": [
    "df['balance'][len(df)-1]"
   ]
  },
  {
   "cell_type": "code",
   "execution_count": 157,
   "id": "9f9042c0",
   "metadata": {},
   "outputs": [],
   "source": [
    "save_balance(df)"
   ]
  },
  {
   "cell_type": "code",
   "execution_count": 158,
   "id": "e4e8c14b",
   "metadata": {},
   "outputs": [
    {
     "name": "stdout",
     "output_type": "stream",
     "text": [
      "\n",
      "Your current balance is -$50.00.\n",
      "\n"
     ]
    }
   ],
   "source": [
    "view_balance(df['balance'])"
   ]
  },
  {
   "cell_type": "code",
   "execution_count": 68,
   "id": "729e9880",
   "metadata": {},
   "outputs": [
    {
     "name": "stdout",
     "output_type": "stream",
     "text": [
      "\n",
      "How much is the credit? 1\n"
     ]
    },
    {
     "data": {
      "text/plain": [
       "401.0"
      ]
     },
     "execution_count": 68,
     "metadata": {},
     "output_type": "execute_result"
    }
   ],
   "source": [
    "deposit(400)"
   ]
  },
  {
   "cell_type": "code",
   "execution_count": 9,
   "id": "28a7d2bf",
   "metadata": {},
   "outputs": [
    {
     "name": "stdout",
     "output_type": "stream",
     "text": [
      "\n",
      "How much is the debit? 10\n"
     ]
    },
    {
     "data": {
      "text/plain": [
       "290.0"
      ]
     },
     "execution_count": 9,
     "metadata": {},
     "output_type": "execute_result"
    }
   ],
   "source": [
    "withdraw(300)"
   ]
  },
  {
   "cell_type": "code",
   "execution_count": 3,
   "id": "36d9c887",
   "metadata": {},
   "outputs": [
    {
     "name": "stdout",
     "output_type": "stream",
     "text": [
      "\n",
      "Thanks, have a great day!\n",
      "\n"
     ]
    }
   ],
   "source": [
    "exit_farewell()"
   ]
  },
  {
   "cell_type": "code",
   "execution_count": null,
   "id": "65071af0",
   "metadata": {},
   "outputs": [],
   "source": []
  }
 ],
 "metadata": {
  "kernelspec": {
   "display_name": "Python 3 (ipykernel)",
   "language": "python",
   "name": "python3"
  },
  "language_info": {
   "codemirror_mode": {
    "name": "ipython",
    "version": 3
   },
   "file_extension": ".py",
   "mimetype": "text/x-python",
   "name": "python",
   "nbconvert_exporter": "python",
   "pygments_lexer": "ipython3",
   "version": "3.10.9"
  },
  "varInspector": {
   "cols": {
    "lenName": 16,
    "lenType": 16,
    "lenVar": 40
   },
   "kernels_config": {
    "python": {
     "delete_cmd_postfix": "",
     "delete_cmd_prefix": "del ",
     "library": "var_list.py",
     "varRefreshCmd": "print(var_dic_list())"
    },
    "r": {
     "delete_cmd_postfix": ") ",
     "delete_cmd_prefix": "rm(",
     "library": "var_list.r",
     "varRefreshCmd": "cat(var_dic_list()) "
    }
   },
   "types_to_exclude": [
    "module",
    "function",
    "builtin_function_or_method",
    "instance",
    "_Feature"
   ],
   "window_display": false
  }
 },
 "nbformat": 4,
 "nbformat_minor": 5
}
