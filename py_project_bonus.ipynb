{
 "cells": [
  {
   "cell_type": "markdown",
   "id": "dff970c0",
   "metadata": {},
   "source": [
    "In this version I add bonus features: **bold indicates done**\n",
    "- **Add a menu item that allows the user to view all historical transactions**\n",
    "- **Assign categories to each transaction**\n",
    "    - Add a menu item to allow the user to view all the transactions in a given category\n",
    "    - Provide the user with summary statistics about the transactions in each category\n",
    "- Keep track of the date and time that each transaction happened\n",
    "    - Allow the user to view all the transactions for a given day\n",
    "    - Hint: Make sure your list of previous transactions includes the timestamp for each\n",
    "- Allow the user to optionally provide a description for each transaction\n",
    "    - Allow the user to search for keywords in the transaction descriptions, and show all the transactions that match the user's search term\n",
    "- Allow the user to modify past transactions"
   ]
  },
  {
   "cell_type": "code",
   "execution_count": null,
   "id": "e94afa01",
   "metadata": {},
   "outputs": [],
   "source": [
    "import os\n",
    "import pandas as pd\n",
    "import numpy as np\n",
    "\n",
    "def main():\n",
    "\n",
    "    # initialize balance\n",
    "    transactions = initialize_transactions()\n",
    "\n",
    "    # greeting\n",
    "    print(\"~~~ Welcome to your terminal checkbook! ~~~\\n\")\n",
    "\n",
    "    # run options until user exits\n",
    "    while True:\n",
    "        print(\n",
    "            \"\"\"What would you like to do?\\n\n",
    "                1) view current balance\\n\n",
    "                2) view transactions\\n\n",
    "                3) view transactions by category (withdrawal or deposit)\n",
    "                4) record a debit (withdraw)\\n\n",
    "                5) record a credit (deposit)\\n\n",
    "                6) exit\\n\"\"\")\n",
    "        \n",
    "        # get and validate input\n",
    "        while True:\n",
    "\n",
    "            usr_input = input('Your choice? ')\n",
    "\n",
    "            if 1 <= int(usr_input) <= 6:\n",
    "                usr_input = int(usr_input)\n",
    "                break\n",
    "            else:\n",
    "                print(f'Invalid choice: {usr_input}\\n')\n",
    "        \n",
    "        # run option\n",
    "        if usr_input == 1:\n",
    "            view_balance(transactions['balance'])\n",
    "        elif usr_input == 2:\n",
    "            # ask for input until integer or all is inputed\n",
    "            while True:\n",
    "                rows = input('\\nHow many recent transactions? (number or \"all\") ')\n",
    "                if rows == 'all' or is_int(rows):\n",
    "                    break\n",
    "             \n",
    "        elif usr_input == 3:\n",
    "            # ask for input while input is not int and not all\n",
    "            while True:\n",
    "                u_i = input('\\nView deposits or withdraws? (\"d\" or \"w\") ')\n",
    "                if u_i.lower() in ['b','w']:\n",
    "                    break\n",
    "            view_trans_by_cat(transactions)\n",
    "        elif usr_input == 4:\n",
    "            withdraw(transactions)     \n",
    "        elif usr_input == 5:\n",
    "            deposit(transactions)\n",
    "        elif usr_input == 6:\n",
    "            exit_farewell()\n",
    "            break\n",
    "\n",
    "    # save_balance into 'balance.txt'\n",
    "    save_transactions(transactions)\n",
    "\n",
    "    # exit app\n",
    "    exit()\n",
    "\n",
    "\n",
    "# function to intitialize transactions DataFrame\n",
    "def initialize_transactions():\n",
    "    # if csv of transactions exists, initialize transactions DataFrame with it\n",
    "    if os.path.exists('transactions.csv'):\n",
    "        df = pd.read_csv('transactions.csv')\n",
    "        return df\n",
    "    # else initialize transactions DataFrame with balance of 0\n",
    "    else:\n",
    "        cols = ['transaction','amount','balance']\n",
    "        # first row data\n",
    "        data = pd.Series( np.array([np.nan, np.nan, 0.0]), index=cols) \n",
    "        df = pd.DataFrame(columns=cols)\n",
    "        # Add the row to the DataFrame\n",
    "        df.loc[0] = data\n",
    "        return df\n",
    "\n",
    "\n",
    "# save transactions to csv\n",
    "def save_transactions(df):\n",
    "        df.to_csv('transactions.csv', index=False)\n",
    "\n",
    "# option 1 function: view balance\n",
    "def view_balance(bal_series, current=True):\n",
    "    # view current balance\n",
    "    if current:\n",
    "        # get last (most recent) balance value\n",
    "        bal = bal_series[len(bal_series)-1]\n",
    "        # display balance\n",
    "        bal_disp = '\\nYour current balance is ${:.2f}.\\n'.format(\\\n",
    "                        round(abs(bal_series[len(bal_series)-1]), 2))\n",
    "\n",
    "    # insert '-' if balance is negative\n",
    "    if bal < 0:\n",
    "        bal_disp = bal_disp[:25] + '-' + bal_disp[25:]\n",
    "    print(bal_disp)\n",
    "    \n",
    "# option 2 function: view transaction history\n",
    "def view_transactions(df, row_limit=False, group=False):\n",
    "    if row_limit == \"all\":\n",
    "        row_limit = len(df)\n",
    "    if group:\n",
    "        \n",
    "    print(f'\\n{df.tail(int(row_limit))}\\n\\n')\n",
    "    \n",
    "\n",
    "# option 3 function: make withdrawal, updates dataframe without assignment\n",
    "def withdraw(df):\n",
    "    # withdrawal prompt\n",
    "    debit = float(input('\\nHow much is the debit? $'))\n",
    "    # calculate new balance\n",
    "    new_bal = df['balance'][len(df)-1] - debit\n",
    "    # create row of data for transaction\n",
    "    data = pd.Series( ['withdrawal', debit * -1, new_bal], index=df.columns)\n",
    "\n",
    "    # add data to end of transactions\n",
    "    df.loc[len(df)] = data\n",
    "    return df\n",
    "\n",
    "# option 4 function: make deposit, similar to withdraw function, \n",
    "# except we add from balance\n",
    "def deposit(df):\n",
    "    credit = float(input('\\nHow much is the credit? $'))\n",
    "    new_bal = df['balance'][len(df)-1] + credit\n",
    "    data = pd.Series( ['deposit', credit, new_bal], index=df.columns) \n",
    "\n",
    "    df.loc[len(df)] = data\n",
    "    return df\n",
    "\n",
    "# option 5 function: exit app\n",
    "def exit_farewell():\n",
    "    # farewell\n",
    "    print(\"\\nThanks, have a great day!\\n\")\n",
    "    \n",
    "# function to check if input is an int\n",
    "def is_int(string):\n",
    "    try:\n",
    "        int(int(string))\n",
    "        return True\n",
    "    except ValueError:\n",
    "        return False\n",
    "\n",
    "# main()"
   ]
  },
  {
   "cell_type": "code",
   "execution_count": null,
   "id": "260a1c37",
   "metadata": {},
   "outputs": [
    {
     "name": "stdout",
     "output_type": "stream",
     "text": [
      "~~~ Welcome to your terminal checkbook! ~~~\n",
      "\n",
      "What would you like to do?\n",
      "\n",
      "                1) view current balance\n",
      "\n",
      "                2) view transactions\n",
      "\n",
      "                2) record a debit (withdraw)\n",
      "\n",
      "                3) record a credit (deposit)\n",
      "\n",
      "                4) exit\n",
      "\n",
      "Your choice? 2\n",
      "\n",
      "How many recent transactions? (number or \"all\") all\n",
      "\n",
      "  transaction  amount  balance\n",
      "0         NaN     NaN   -50.00\n",
      "1     deposit   30.00   -20.00\n",
      "2  withdrawal  -45.00   -65.00\n",
      "3     deposit  100.00    35.00\n",
      "4  withdrawal  -13.22    21.78\n",
      "5     deposit  149.00   170.78\n",
      "\n",
      "\n",
      "What would you like to do?\n",
      "\n",
      "                1) view current balance\n",
      "\n",
      "                2) view transactions\n",
      "\n",
      "                2) record a debit (withdraw)\n",
      "\n",
      "                3) record a credit (deposit)\n",
      "\n",
      "                4) exit\n",
      "\n",
      "Your choice? 2\n",
      "\n",
      "How many recent transactions? (number or \"all\") 3\n",
      "\n",
      "  transaction  amount  balance\n",
      "3     deposit  100.00    35.00\n",
      "4  withdrawal  -13.22    21.78\n",
      "5     deposit  149.00   170.78\n",
      "\n",
      "\n",
      "What would you like to do?\n",
      "\n",
      "                1) view current balance\n",
      "\n",
      "                2) view transactions\n",
      "\n",
      "                2) record a debit (withdraw)\n",
      "\n",
      "                3) record a credit (deposit)\n",
      "\n",
      "                4) exit\n",
      "\n",
      "Your choice? 1\n",
      "\n",
      "Your current balance is $170.78.\n",
      "\n",
      "What would you like to do?\n",
      "\n",
      "                1) view current balance\n",
      "\n",
      "                2) view transactions\n",
      "\n",
      "                2) record a debit (withdraw)\n",
      "\n",
      "                3) record a credit (deposit)\n",
      "\n",
      "                4) exit\n",
      "\n"
     ]
    }
   ],
   "source": [
    "main()"
   ]
  },
  {
   "cell_type": "code",
   "execution_count": null,
   "id": "d51cc2c1",
   "metadata": {},
   "outputs": [],
   "source": []
  },
  {
   "cell_type": "code",
   "execution_count": 24,
   "id": "b26a5521",
   "metadata": {
    "scrolled": true
   },
   "outputs": [
    {
     "data": {
      "text/html": [
       "<div>\n",
       "<style scoped>\n",
       "    .dataframe tbody tr th:only-of-type {\n",
       "        vertical-align: middle;\n",
       "    }\n",
       "\n",
       "    .dataframe tbody tr th {\n",
       "        vertical-align: top;\n",
       "    }\n",
       "\n",
       "    .dataframe thead th {\n",
       "        text-align: right;\n",
       "    }\n",
       "</style>\n",
       "<table border=\"1\" class=\"dataframe\">\n",
       "  <thead>\n",
       "    <tr style=\"text-align: right;\">\n",
       "      <th></th>\n",
       "      <th>transaction</th>\n",
       "      <th>amount</th>\n",
       "      <th>balance</th>\n",
       "    </tr>\n",
       "  </thead>\n",
       "  <tbody>\n",
       "    <tr>\n",
       "      <th>0</th>\n",
       "      <td>NaN</td>\n",
       "      <td>NaN</td>\n",
       "      <td>-50.00</td>\n",
       "    </tr>\n",
       "    <tr>\n",
       "      <th>1</th>\n",
       "      <td>deposit</td>\n",
       "      <td>30.00</td>\n",
       "      <td>-20.00</td>\n",
       "    </tr>\n",
       "    <tr>\n",
       "      <th>2</th>\n",
       "      <td>withdrawal</td>\n",
       "      <td>-45.00</td>\n",
       "      <td>-65.00</td>\n",
       "    </tr>\n",
       "    <tr>\n",
       "      <th>3</th>\n",
       "      <td>deposit</td>\n",
       "      <td>100.00</td>\n",
       "      <td>35.00</td>\n",
       "    </tr>\n",
       "    <tr>\n",
       "      <th>4</th>\n",
       "      <td>withdrawal</td>\n",
       "      <td>-13.22</td>\n",
       "      <td>21.78</td>\n",
       "    </tr>\n",
       "    <tr>\n",
       "      <th>5</th>\n",
       "      <td>deposit</td>\n",
       "      <td>149.00</td>\n",
       "      <td>170.78</td>\n",
       "    </tr>\n",
       "  </tbody>\n",
       "</table>\n",
       "</div>"
      ],
      "text/plain": [
       "  transaction  amount  balance\n",
       "0         NaN     NaN   -50.00\n",
       "1     deposit   30.00   -20.00\n",
       "2  withdrawal  -45.00   -65.00\n",
       "3     deposit  100.00    35.00\n",
       "4  withdrawal  -13.22    21.78\n",
       "5     deposit  149.00   170.78"
      ]
     },
     "execution_count": 24,
     "metadata": {},
     "output_type": "execute_result"
    }
   ],
   "source": [
    "df = initialize_transactions()\n",
    "df.head(10)"
   ]
  },
  {
   "cell_type": "code",
   "execution_count": 25,
   "id": "7351e80c",
   "metadata": {},
   "outputs": [
    {
     "data": {
      "text/plain": [
       "transaction     object\n",
       "amount         float64\n",
       "balance        float64\n",
       "dtype: object"
      ]
     },
     "execution_count": 25,
     "metadata": {},
     "output_type": "execute_result"
    }
   ],
   "source": [
    "df.dtypes"
   ]
  },
  {
   "cell_type": "code",
   "execution_count": 220,
   "id": "f07d4845",
   "metadata": {},
   "outputs": [
    {
     "data": {
      "text/plain": [
       "Index(['transaction', 'amount', 'balance'], dtype='object')"
      ]
     },
     "execution_count": 220,
     "metadata": {},
     "output_type": "execute_result"
    }
   ],
   "source": [
    "df.columns"
   ]
  },
  {
   "cell_type": "code",
   "execution_count": 228,
   "id": "aad4eaaf",
   "metadata": {},
   "outputs": [],
   "source": [
    "save_transactions(df)"
   ]
  },
  {
   "cell_type": "code",
   "execution_count": 222,
   "id": "e4e8c14b",
   "metadata": {
    "scrolled": true
   },
   "outputs": [
    {
     "name": "stdout",
     "output_type": "stream",
     "text": [
      "\n",
      "Your current balance is -$50.00.\n",
      "\n"
     ]
    }
   ],
   "source": [
    "view_balance(df['balance'])"
   ]
  },
  {
   "cell_type": "code",
   "execution_count": 223,
   "id": "92f76f1a",
   "metadata": {},
   "outputs": [
    {
     "data": {
      "text/plain": [
       "transaction    float64\n",
       "amount         float64\n",
       "balance        float64\n",
       "dtype: object"
      ]
     },
     "execution_count": 223,
     "metadata": {},
     "output_type": "execute_result"
    }
   ],
   "source": [
    "df.dtypes"
   ]
  },
  {
   "cell_type": "code",
   "execution_count": 224,
   "id": "729e9880",
   "metadata": {
    "scrolled": true
   },
   "outputs": [
    {
     "name": "stdout",
     "output_type": "stream",
     "text": [
      "\n",
      "How much is the credit? 30\n"
     ]
    },
    {
     "data": {
      "text/html": [
       "<div>\n",
       "<style scoped>\n",
       "    .dataframe tbody tr th:only-of-type {\n",
       "        vertical-align: middle;\n",
       "    }\n",
       "\n",
       "    .dataframe tbody tr th {\n",
       "        vertical-align: top;\n",
       "    }\n",
       "\n",
       "    .dataframe thead th {\n",
       "        text-align: right;\n",
       "    }\n",
       "</style>\n",
       "<table border=\"1\" class=\"dataframe\">\n",
       "  <thead>\n",
       "    <tr style=\"text-align: right;\">\n",
       "      <th></th>\n",
       "      <th>transaction</th>\n",
       "      <th>amount</th>\n",
       "      <th>balance</th>\n",
       "    </tr>\n",
       "  </thead>\n",
       "  <tbody>\n",
       "    <tr>\n",
       "      <th>0</th>\n",
       "      <td>NaN</td>\n",
       "      <td>NaN</td>\n",
       "      <td>-50.0</td>\n",
       "    </tr>\n",
       "    <tr>\n",
       "      <th>1</th>\n",
       "      <td>deposit</td>\n",
       "      <td>30.0</td>\n",
       "      <td>-20.0</td>\n",
       "    </tr>\n",
       "  </tbody>\n",
       "</table>\n",
       "</div>"
      ],
      "text/plain": [
       "  transaction  amount  balance\n",
       "0         NaN     NaN    -50.0\n",
       "1     deposit    30.0    -20.0"
      ]
     },
     "execution_count": 224,
     "metadata": {},
     "output_type": "execute_result"
    }
   ],
   "source": [
    "deposit(df)"
   ]
  },
  {
   "cell_type": "code",
   "execution_count": 225,
   "id": "fefc5305",
   "metadata": {},
   "outputs": [
    {
     "data": {
      "text/plain": [
       "transaction     object\n",
       "amount         float64\n",
       "balance        float64\n",
       "dtype: object"
      ]
     },
     "execution_count": 225,
     "metadata": {},
     "output_type": "execute_result"
    }
   ],
   "source": [
    "df.dtypes"
   ]
  },
  {
   "cell_type": "code",
   "execution_count": 226,
   "id": "28a7d2bf",
   "metadata": {},
   "outputs": [
    {
     "name": "stdout",
     "output_type": "stream",
     "text": [
      "\n",
      "How much is the debit? 45\n"
     ]
    },
    {
     "data": {
      "text/html": [
       "<div>\n",
       "<style scoped>\n",
       "    .dataframe tbody tr th:only-of-type {\n",
       "        vertical-align: middle;\n",
       "    }\n",
       "\n",
       "    .dataframe tbody tr th {\n",
       "        vertical-align: top;\n",
       "    }\n",
       "\n",
       "    .dataframe thead th {\n",
       "        text-align: right;\n",
       "    }\n",
       "</style>\n",
       "<table border=\"1\" class=\"dataframe\">\n",
       "  <thead>\n",
       "    <tr style=\"text-align: right;\">\n",
       "      <th></th>\n",
       "      <th>transaction</th>\n",
       "      <th>amount</th>\n",
       "      <th>balance</th>\n",
       "    </tr>\n",
       "  </thead>\n",
       "  <tbody>\n",
       "    <tr>\n",
       "      <th>0</th>\n",
       "      <td>NaN</td>\n",
       "      <td>NaN</td>\n",
       "      <td>-50.0</td>\n",
       "    </tr>\n",
       "    <tr>\n",
       "      <th>1</th>\n",
       "      <td>deposit</td>\n",
       "      <td>30.0</td>\n",
       "      <td>-20.0</td>\n",
       "    </tr>\n",
       "    <tr>\n",
       "      <th>2</th>\n",
       "      <td>withdrawal</td>\n",
       "      <td>-45.0</td>\n",
       "      <td>-65.0</td>\n",
       "    </tr>\n",
       "  </tbody>\n",
       "</table>\n",
       "</div>"
      ],
      "text/plain": [
       "  transaction  amount  balance\n",
       "0         NaN     NaN    -50.0\n",
       "1     deposit    30.0    -20.0\n",
       "2  withdrawal   -45.0    -65.0"
      ]
     },
     "execution_count": 226,
     "metadata": {},
     "output_type": "execute_result"
    }
   ],
   "source": [
    "withdraw(df)"
   ]
  },
  {
   "cell_type": "code",
   "execution_count": 227,
   "id": "36741ebe",
   "metadata": {},
   "outputs": [
    {
     "name": "stdout",
     "output_type": "stream",
     "text": [
      "\n",
      "How much is the credit? 100\n"
     ]
    },
    {
     "data": {
      "text/html": [
       "<div>\n",
       "<style scoped>\n",
       "    .dataframe tbody tr th:only-of-type {\n",
       "        vertical-align: middle;\n",
       "    }\n",
       "\n",
       "    .dataframe tbody tr th {\n",
       "        vertical-align: top;\n",
       "    }\n",
       "\n",
       "    .dataframe thead th {\n",
       "        text-align: right;\n",
       "    }\n",
       "</style>\n",
       "<table border=\"1\" class=\"dataframe\">\n",
       "  <thead>\n",
       "    <tr style=\"text-align: right;\">\n",
       "      <th></th>\n",
       "      <th>transaction</th>\n",
       "      <th>amount</th>\n",
       "      <th>balance</th>\n",
       "    </tr>\n",
       "  </thead>\n",
       "  <tbody>\n",
       "    <tr>\n",
       "      <th>0</th>\n",
       "      <td>NaN</td>\n",
       "      <td>NaN</td>\n",
       "      <td>-50.0</td>\n",
       "    </tr>\n",
       "    <tr>\n",
       "      <th>1</th>\n",
       "      <td>deposit</td>\n",
       "      <td>30.0</td>\n",
       "      <td>-20.0</td>\n",
       "    </tr>\n",
       "    <tr>\n",
       "      <th>2</th>\n",
       "      <td>withdrawal</td>\n",
       "      <td>-45.0</td>\n",
       "      <td>-65.0</td>\n",
       "    </tr>\n",
       "    <tr>\n",
       "      <th>3</th>\n",
       "      <td>deposit</td>\n",
       "      <td>100.0</td>\n",
       "      <td>35.0</td>\n",
       "    </tr>\n",
       "  </tbody>\n",
       "</table>\n",
       "</div>"
      ],
      "text/plain": [
       "  transaction  amount  balance\n",
       "0         NaN     NaN    -50.0\n",
       "1     deposit    30.0    -20.0\n",
       "2  withdrawal   -45.0    -65.0\n",
       "3     deposit   100.0     35.0"
      ]
     },
     "execution_count": 227,
     "metadata": {},
     "output_type": "execute_result"
    }
   ],
   "source": [
    "deposit(df)"
   ]
  },
  {
   "cell_type": "code",
   "execution_count": null,
   "id": "efd0765b",
   "metadata": {},
   "outputs": [],
   "source": []
  }
 ],
 "metadata": {
  "kernelspec": {
   "display_name": "Python 3 (ipykernel)",
   "language": "python",
   "name": "python3"
  },
  "language_info": {
   "codemirror_mode": {
    "name": "ipython",
    "version": 3
   },
   "file_extension": ".py",
   "mimetype": "text/x-python",
   "name": "python",
   "nbconvert_exporter": "python",
   "pygments_lexer": "ipython3",
   "version": "3.10.9"
  },
  "varInspector": {
   "cols": {
    "lenName": 16,
    "lenType": 16,
    "lenVar": 40
   },
   "kernels_config": {
    "python": {
     "delete_cmd_postfix": "",
     "delete_cmd_prefix": "del ",
     "library": "var_list.py",
     "varRefreshCmd": "print(var_dic_list())"
    },
    "r": {
     "delete_cmd_postfix": ") ",
     "delete_cmd_prefix": "rm(",
     "library": "var_list.r",
     "varRefreshCmd": "cat(var_dic_list()) "
    }
   },
   "types_to_exclude": [
    "module",
    "function",
    "builtin_function_or_method",
    "instance",
    "_Feature"
   ],
   "window_display": false
  }
 },
 "nbformat": 4,
 "nbformat_minor": 5
}
